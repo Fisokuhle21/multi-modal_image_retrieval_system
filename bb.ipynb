{
 "cells": [
  {
   "cell_type": "code",
   "execution_count": 1,
   "metadata": {},
   "outputs": [
    {
     "name": "stderr",
     "output_type": "stream",
     "text": [
      "/home/fisokuhle/Desktop/multi-modal_image_retrieval_system/.venv/lib/python3.10/site-packages/tqdm/auto.py:21: TqdmWarning: IProgress not found. Please update jupyter and ipywidgets. See https://ipywidgets.readthedocs.io/en/stable/user_install.html\n",
      "  from .autonotebook import tqdm as notebook_tqdm\n"
     ]
    }
   ],
   "source": [
    "from shared.classes import Chroma as ch, Model as md\n",
    "import shared.functions as fns\n",
    "from datetime import datetime\n",
    "import pandas as pd\n",
    "from PIL import Image"
   ]
  },
  {
   "cell_type": "code",
   "execution_count": null,
   "metadata": {},
   "outputs": [
    {
     "name": "stderr",
     "output_type": "stream",
     "text": [
      "/home/fisokuhle/Desktop/multi-modal_image_retrieval_system/.venv/lib/python3.10/site-packages/tqdm/auto.py:21: TqdmWarning: IProgress not found. Please update jupyter and ipywidgets. See https://ipywidgets.readthedocs.io/en/stable/user_install.html\n",
      "  from .autonotebook import tqdm as notebook_tqdm\n"
     ]
    }
   ],
   "source": [
    "def run(query: str, create_collection: bool=False, add_data: bool=False) -> dict:\n",
    "    df = pd.read_csv(\"images/image.csv\")\n",
    "    df.drop(columns=[\"Unnamed: 0\"], inplace=True)\n",
    "    df[\"image\"] = df[\"filepath\"].apply(lambda x: Image.open(x))\n",
    "\n",
    "    image_data_df = fns.get_all_images_embedding(df, \"image\")\n",
    "\n",
    "    chroma = ch(collection_name=\"my_collection\")\n",
    "\n",
    "    if create_collection:\n",
    "        collection = chroma.create_collection(db_metadata={\n",
    "                \"description\": \"my first Chroma collection\",\n",
    "                \"created\": str(datetime.now()),\n",
    "                \"hnsw:space\": \"cosine\",\n",
    "            })\n",
    "    else:\n",
    "        collection = chroma.get_collection()\n",
    "\n",
    "    if add_data:\n",
    "        chroma.add_data(image_data_df)\n",
    "\n",
    "    res = fns.get_results(query, collection)\n",
    "\n",
    "    return res\n",
    "\n",
    "res = run(\"I want a picture with a city view\")\n",
    "# fns.plot_images_by_side_(res)\n",
    "\n",
    "captions = fns.generate_captions(res)"
   ]
  },
  {
   "cell_type": "code",
   "execution_count": 2,
   "metadata": {},
   "outputs": [
    {
     "name": "stdout",
     "output_type": "stream",
     "text": [
      "['a city with a river and a bridge', 'a man holding a giant moon in the night sky', 'a view of the city from a window', 'the sun sets over the skyline of the city of panama']\n"
     ]
    }
   ],
   "source": [
    "print(captions)"
   ]
  },
  {
   "cell_type": "code",
   "execution_count": 2,
   "metadata": {},
   "outputs": [
    {
     "name": "stderr",
     "output_type": "stream",
     "text": [
      "/home/fisokuhle/Desktop/multi-modal_image_retrieval_system/.venv/lib/python3.10/site-packages/transformers/models/encodec/modeling_encodec.py:124: UserWarning: To copy construct from a tensor, it is recommended to use sourceTensor.clone().detach() or sourceTensor.clone().detach().requires_grad_(True), rather than torch.tensor(sourceTensor).\n",
      "  self.register_buffer(\"padding_total\", torch.tensor(kernel_size - stride, dtype=torch.int64), persistent=False)\n",
      "The attention mask and the pad token id were not set. As a consequence, you may observe unexpected behavior. Please pass your input's `attention_mask` to obtain reliable results.\n",
      "Setting `pad_token_id` to `eos_token_id`:10000 for open-end generation.\n",
      "The attention mask is not set and cannot be inferred from input because pad token is same as eos token. As a consequence, you may observe unexpected behavior. Please pass your input's `attention_mask` to obtain reliable results.\n"
     ]
    }
   ],
   "source": [
    "fns.generate_audio(\"Heyya, how's it going?\")"
   ]
  },
  {
   "cell_type": "code",
   "execution_count": null,
   "metadata": {},
   "outputs": [],
   "source": []
  }
 ],
 "metadata": {
  "kernelspec": {
   "display_name": ".venv",
   "language": "python",
   "name": "python3"
  },
  "language_info": {
   "codemirror_mode": {
    "name": "ipython",
    "version": 3
   },
   "file_extension": ".py",
   "mimetype": "text/x-python",
   "name": "python",
   "nbconvert_exporter": "python",
   "pygments_lexer": "ipython3",
   "version": "3.10.12"
  }
 },
 "nbformat": 4,
 "nbformat_minor": 2
}
